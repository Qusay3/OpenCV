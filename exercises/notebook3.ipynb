{
  "nbformat": 4,
  "nbformat_minor": 0,
  "metadata": {
    "colab": {
      "provenance": []
    },
    "kernelspec": {
      "name": "python3",
      "display_name": "Python 3"
    },
    "language_info": {
      "name": "python"
    }
  },
  "cells": [
    {
      "cell_type": "code",
      "execution_count": 8,
      "metadata": {
        "colab": {
          "base_uri": "https://localhost:8080/",
          "height": 417
        },
        "id": "i5QASFl_ccLg",
        "outputId": "3dd5829a-09c8-4902-9c12-d2af9aa787ed"
      },
      "outputs": [
        {
          "output_type": "display_data",
          "data": {
            "text/plain": [
              "<PIL.Image.Image image mode=RGB size=600x400>"
            ],
            "image/png": "[encoded data removed]"
          },
          "metadata": {}
        }
      ],
      "source": [
        "import cv2\n",
        "import numpy as np\n",
        "from google.colab.patches import cv2_imshow # Use cv2_imshow instead of cv2.imshow\n",
        "\n",
        "image = np.ones((400,600,3), dtype = np.uint8)\n",
        "\n",
        "cv2.ellipse(image, (300, 200), (150, 150), 0, 180, 360, (0, 0, 255), -1)\n",
        "cv2.ellipse(image, (300, 200), (150, 150), 0, 0, 180, (255, 255, 255), -1)\n",
        "\n",
        "cv2.line(image, (155, 200), (445, 200), (0, 0, 0), 15)\n",
        "\n",
        "cv2.circle(image, (300, 200), 50, (0, 0, 0), -1)\n",
        "cv2.circle(image, (300, 200), 30, (255, 255, 255), -1)\n",
        "\n",
        "cv2.rectangle(image, (150, 20), (450, 350), (0, 255, 255), 5)\n",
        "cv2.rectangle(image, (150, 50), (450, 20), (0, 255, 255), -1)\n",
        "cv2.putText(image, 'pokeball', (160, 45), cv2.FONT_HERSHEY_SIMPLEX, 1, (0, 0, 0), 3)\n",
        "\n",
        "\n",
        "cv2_imshow(image)\n",
        "cv2.waitKey(0)\n",
        "cv2.destroyAllWindows()"
      ]
    }
  ]
}